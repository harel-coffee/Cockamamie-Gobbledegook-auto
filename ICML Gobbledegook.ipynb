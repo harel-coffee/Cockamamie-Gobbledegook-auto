{
 "cells": [
  {
   "cell_type": "markdown",
   "metadata": {},
   "source": [
    "This is where we do the analysis for the paper."
   ]
  },
  {
   "cell_type": "markdown",
   "metadata": {},
   "source": [
    "*Note:* pickled embeddings are generated with code in included in the Appendix section at the end of the notebook."
   ]
  },
  {
   "cell_type": "code",
   "execution_count": 2,
   "metadata": {},
   "outputs": [
    {
     "name": "stdout",
     "output_type": "stream",
     "text": [
      "Populating the interactive namespace from numpy and matplotlib\n"
     ]
    },
    {
     "name": "stderr",
     "output_type": "stream",
     "text": [
      "/usr/local/lib/python3.6/dist-packages/sklearn/ensemble/weight_boosting.py:29: DeprecationWarning: numpy.core.umath_tests is an internal NumPy module and should not be imported. It will be removed in a future NumPy release.\n",
      "  from numpy.core.umath_tests import inner1d\n"
     ]
    }
   ],
   "source": [
    "%pylab inline\n",
    "import sys\n",
    "# import words\n",
    "import we\n",
    "from sklearn.svm import LinearSVC, SVC, LinearSVR, SVR\n",
    "import numpy as np\n",
    "import re, sys\n",
    "import random\n",
    "import pickle as pkl\n",
    "from sklearn.tree import DecisionTreeClassifier\n",
    "from sklearn.ensemble import AdaBoostClassifier, RandomForestClassifier\n",
    "import sklearn.feature_selection \n",
    "import csv\n",
    "from collections import Counter\n",
    "import json\n",
    "from sklearn.linear_model import LinearRegression, LogisticRegression, Ridge\n",
    "import time\n",
    "from sklearn.cluster import KMeans\n",
    "import scipy.stats\n",
    "from sklearn.model_selection import KFold"
   ]
  },
  {
   "cell_type": "markdown",
   "metadata": {},
   "source": [
    "# Data pre-processing"
   ]
  },
  {
   "cell_type": "code",
   "execution_count": 3,
   "metadata": {},
   "outputs": [],
   "source": [
    "with open(\"data/cockamamie_gobbledegook_us_data.json\", \"r\") as f: \n",
    "    cockamamie_gobbledegook_us_data = json.load(f)"
   ]
  },
  {
   "cell_type": "code",
   "execution_count": 4,
   "metadata": {},
   "outputs": [
    {
     "data": {
      "text/plain": [
       "dict_keys(['word_features', 'word_ratings'])"
      ]
     },
     "execution_count": 4,
     "metadata": {},
     "output_type": "execute_result"
    }
   ],
   "source": [
    "cockamamie_gobbledegook_us_data.keys()"
   ]
  },
  {
   "cell_type": "code",
   "execution_count": 5,
   "metadata": {},
   "outputs": [
    {
     "data": {
      "text/plain": [
       "'snd scatc clq inslt juxt sexc'"
      ]
     },
     "execution_count": 5,
     "metadata": {},
     "output_type": "execute_result"
    }
   ],
   "source": [
    "labels = cockamamie_gobbledegook_us_data[\"word_features\"]\n",
    "\" \".join(labels.keys())"
   ]
  },
  {
   "cell_type": "code",
   "execution_count": 6,
   "metadata": {},
   "outputs": [
    {
     "data": {
      "text/plain": [
       "1878"
      ]
     },
     "execution_count": 6,
     "metadata": {},
     "output_type": "execute_result"
    }
   ],
   "source": [
    "workers = cockamamie_gobbledegook_us_data[\"word_ratings\"][\"workers\"]\n",
    "len(workers)"
   ]
  },
  {
   "cell_type": "code",
   "execution_count": 7,
   "metadata": {},
   "outputs": [],
   "source": [
    "votes = cockamamie_gobbledegook_us_data[\"word_ratings\"][\"votes\"]"
   ]
  },
  {
   "cell_type": "code",
   "execution_count": 8,
   "metadata": {},
   "outputs": [
    {
     "name": "stdout",
     "output_type": "stream",
     "text": [
      "4997\n"
     ]
    }
   ],
   "source": [
    "# Data from https://link.springer.com/article/10.3758/s13428-017-0930-6\n",
    "!wget https://github.com/tomasengelthaler/HumorNorms/blob/master/humor_dataset.csv\n",
    "with open(\"humor_dataset.csv\", \"r\") as f:\n",
    "    foo = [line.strip().split(\",\") for line in f.readlines()]\n",
    "    headings = foo[0][1:]\n",
    "    others = {line[0]: {feat: float(v) for v, feat in zip(line[1:], headings)} for line in foo[1:]}\n",
    "\n",
    "# E_other.filter_words(lambda w: w in others)\n",
    "EH_scores = {w: others[w][\"mean\"] for w in others}\n",
    "print(len(EH_scores))\n",
    "# print(len(other_scores), \"words in the embedding\")"
   ]
  },
  {
   "cell_type": "markdown",
   "metadata": {},
   "source": [
    "# Helper functions"
   ]
  },
  {
   "cell_type": "code",
   "execution_count": 9,
   "metadata": {},
   "outputs": [],
   "source": [
    "def corr(a,b):\n",
    "    return corrcoef(a,b)[0,1]\n",
    "\n",
    "def normalize(v):\n",
    "    return v / np.linalg.norm(v)\n",
    "    \n",
    "def revsorted(*args, **kw_args):\n",
    "    return sorted(*args, **kw_args, reverse=True)"
   ]
  },
  {
   "cell_type": "code",
   "execution_count": 10,
   "metadata": {},
   "outputs": [
    {
     "name": "stdout",
     "output_type": "stream",
     "text": [
      "Loaded 120,259 words from data/crawl-300d-120k-subword_w_EH.pkl\n"
     ]
    }
   ],
   "source": [
    "filename = \"data/crawl-300d-120k-subword_w_EH.pkl\"\n",
    "with open(filename, \"rb\") as f:\n",
    "    E_fast = pkl.load(f)\n",
    "print(f\"Loaded {len(E_fast):,} words from {filename}\")"
   ]
  },
  {
   "cell_type": "code",
   "execution_count": 11,
   "metadata": {},
   "outputs": [
    {
     "name": "stdout",
     "output_type": "stream",
     "text": [
      "Loaded 120,259 words from data/crawl-300d-120k-w_EH.pkl\n"
     ]
    }
   ],
   "source": [
    "filename = \"data/crawl-300d-120k-w_EH.pkl\"\n",
    "with open(filename, \"rb\") as f:\n",
    "    E_fast_whole = pkl.load(f)\n",
    "print(f\"Loaded {len(E_fast_whole):,} words from {filename}\")"
   ]
  },
  {
   "cell_type": "code",
   "execution_count": 12,
   "metadata": {},
   "outputs": [
    {
     "name": "stdout",
     "output_type": "stream",
     "text": [
      "Loaded 120,259 words from data/wiki-news-300d-120kEH-subword.pkl\n"
     ]
    }
   ],
   "source": [
    "filename = \"data/wiki-news-300d-120kEH-subword.pkl\"\n",
    "with open(filename, \"rb\") as f:\n",
    "    E_wiki = pkl.load(f)\n",
    "print(f\"Loaded {len(E_wiki):,} words from {filename}\")"
   ]
  },
  {
   "cell_type": "code",
   "execution_count": 13,
   "metadata": {},
   "outputs": [
    {
     "name": "stdout",
     "output_type": "stream",
     "text": [
      "Loaded 120,259 words from data/glove_840_w_EH.pkl\n"
     ]
    }
   ],
   "source": [
    "# wiki (glove)\n",
    "filename = \"data/glove_840_w_EH.pkl\"\n",
    "with open(filename, \"rb\") as f:\n",
    "    E_glove = pkl.load(f)\n",
    "print(f\"Loaded {len(E_glove):,} words from {filename}\")"
   ]
  },
  {
   "cell_type": "code",
   "execution_count": 14,
   "metadata": {},
   "outputs": [
    {
     "name": "stdout",
     "output_type": "stream",
     "text": [
      "Loaded 120,259 words from data/w2v_w_EH.pkl\n"
     ]
    }
   ],
   "source": [
    "filename = \"data/w2v_w_EH.pkl\"\n",
    "with open(filename, \"rb\") as f:\n",
    "    E = pkl.load(f)\n",
    "print(f\"Loaded {len(E):,} words from {filename}\")"
   ]
  },
  {
   "cell_type": "code",
   "execution_count": 15,
   "metadata": {},
   "outputs": [],
   "source": [
    "wordss = [sorted(ws) for ws in votes]"
   ]
  },
  {
   "cell_type": "code",
   "execution_count": 16,
   "metadata": {},
   "outputs": [
    {
     "data": {
      "text/plain": [
       "(0.6112886048988285, 37.685303514377, 35.0)"
      ]
     },
     "execution_count": 16,
     "metadata": {},
     "output_type": "execute_result"
    }
   ],
   "source": [
    "# extract demographic group votes\n",
    "def sex(worker_id):\n",
    "    return workers[worker_id][\"sex\"]\n",
    "\n",
    "votes_M = [{w: {k: [i for i in v if sex(i)=='Male'] for k, v in vv.items()} for w, vv in vvv.items()} for vvv in votes]\n",
    "votes_F = [{w: {k: [i for i in v if sex(i)=='Female'] for k, v in vv.items()} for w, vv in vvv.items()} for vvv in votes]\n",
    "\n",
    "scores_M = [{w: len(v[w][\"yes_votes\"])/len(v[w][\"yes_votes\"] + v[w][\"no_votes\"]) for w in v if len(v[w][\"yes_votes\"] + v[w][\"no_votes\"])} for v in votes_M]\n",
    "scores_F = [{w: len(v[w][\"yes_votes\"])/len(v[w][\"yes_votes\"] + v[w][\"no_votes\"]) for w in v if len(v[w][\"yes_votes\"] + v[w][\"no_votes\"])} for v in votes_F]\n",
    "def age(worker_id, default=35):\n",
    "    a = workers[worker_id]['age']\n",
    "    return default if type(a) is str else a\n",
    "    \n",
    "ages = [age(worker['id']) for worker in workers]\n",
    "mean([a>32 for a in ages]), mean(ages), median(ages)"
   ]
  },
  {
   "cell_type": "markdown",
   "metadata": {},
   "source": [
    "# EH correlation with embedding vectors"
   ]
  },
  {
   "cell_type": "code",
   "execution_count": 18,
   "metadata": {},
   "outputs": [],
   "source": [
    "def cross_val_corr_w_std(words, scores, n_reps=1, n_folds=10, clr = LinearRegression(), E=E):\n",
    "    MSEs = []\n",
    "    correlations = []\n",
    "    for rep in range(n_reps):\n",
    "        kf = KFold(n_splits=n_folds, random_state=rep, shuffle=True)    \n",
    "        word_predict = {}\n",
    "        tot_error = 0\n",
    "        for train,test in kf.split(words):\n",
    "            train_words = [words[i] for i in train]\n",
    "            test_words = [words[i] for i in test]\n",
    "#             print(len(train_words), len(test_words))\n",
    "            X_train, X_test = [[E[w] for w in _words] for _words in (train_words, test_words)]\n",
    "            y_train, y_test = [[scores[w] for w in _words] for _words in (train_words, test_words)]\n",
    "            clr.fit(X_train, y_train)\n",
    "            y_hat = clr.predict(X_test)\n",
    "            word_predict.update({w: _y_hat for w, _y_hat in zip(test_words, y_hat)})\n",
    "            tot_error += np.sum(np.square(y_hat-y_test))\n",
    "        MSEs.append(tot_error/len(words))\n",
    "        correlations.append(corr([word_predict[w] for w in words], [scores[w] for w in words]))\n",
    "    return mean(correlations), std(correlations)*1.96\n",
    "\n",
    "def cross_val_corr(words, scores, n_reps=1, n_folds=10, clr = LinearRegression(), E=E):\n",
    "    return cross_val_corr_w_std(words, scores, n_reps, n_folds, clr, E)[0]"
   ]
  },
  {
   "cell_type": "code",
   "execution_count": 161,
   "metadata": {},
   "outputs": [],
   "source": [
    "# Fit linear regression to predict scores from given embedding word vectors (words all from EH dataset). \n",
    "def scatter_embedding(E, n_reps=1, fig_gen=True, save_filename=None, size=0.5):\n",
    "    clr = LinearRegression()\n",
    "    clr.fit([E[w] for w in EH_scores], [EH_scores[w] for w in EH_scores]) \n",
    "    test_words = [w for w in EH_scores]\n",
    "    y_test = [EH_scores[w] for w in test_words]\n",
    "    y_hat = clr.predict([E[w] for w in test_words])\n",
    "    if fig_gen:\n",
    "        figure(figsize=(4,3))\n",
    "        scatter(y_hat, y_test, s=size)\n",
    "        plt.xlabel('predicted humor rating')\n",
    "        plt.ylabel('humor rating from EH')\n",
    "        plt.tight_layout()\n",
    "        if save_filename:\n",
    "            plt.savefig(save_filename, dpi=300)\n",
    "    return corr(y_test, y_hat), cross_val_corr_w_std([w for w in EH_scores], EH_scores, n_reps=n_reps,E=E)"
   ]
  },
  {
   "cell_type": "code",
   "execution_count": 119,
   "metadata": {},
   "outputs": [
    {
     "data": {
      "text/plain": [
       "(0.7676527627145961, (0.7308429037126, 0.0))"
      ]
     },
     "execution_count": 119,
     "metadata": {},
     "output_type": "execute_result"
    },
    {
     "data": {
      "image/png": "[encoded data removed]",
      "text/plain": [
       "<Figure size 288x216 with 1 Axes>"
      ]
     },
     "metadata": {
      "needs_background": "light"
     },
     "output_type": "display_data"
    }
   ],
   "source": [
    "# glove\n",
    "scatter_embedding(E_glove)"
   ]
  },
  {
   "cell_type": "code",
   "execution_count": 21,
   "metadata": {},
   "outputs": [
    {
     "data": {
      "text/plain": [
       "(0.7591718252251429, (0.7201045633364683, 0.0))"
      ]
     },
     "execution_count": 21,
     "metadata": {},
     "output_type": "execute_result"
    },
    {
     "data": {
      "image/png": "[encoded data removed]",
      "text/plain": [
       "<Figure size 288x216 with 1 Axes>"
      ]
     },
     "metadata": {
      "needs_background": "light"
     },
     "output_type": "display_data"
    }
   ],
   "source": [
    "# wiki (fasttext)\n",
    "scatter_embedding(E_wiki)"
   ]
  },
  {
   "cell_type": "code",
   "execution_count": 22,
   "metadata": {},
   "outputs": [
    {
     "data": {
      "text/plain": [
       "(0.721111800654958, (0.6728484567755527, 0.0))"
      ]
     },
     "execution_count": 22,
     "metadata": {},
     "output_type": "execute_result"
    },
    {
     "data": {
      "image/png": "[encoded data removed]",
      "text/plain": [
       "<Figure size 288x216 with 1 Axes>"
      ]
     },
     "metadata": {
      "needs_background": "light"
     },
     "output_type": "display_data"
    }
   ],
   "source": [
    "# word2vec\n",
    "scatter_embedding(E)"
   ]
  },
  {
   "cell_type": "code",
   "execution_count": 80,
   "metadata": {},
   "outputs": [
    {
     "name": "stdout",
     "output_type": "stream",
     "text": [
      "EH_funny_corr.jpg  feature_correlations.jpg  feature_correlations.pdf\r\n"
     ]
    }
   ],
   "source": [
    "!ls figs"
   ]
  },
  {
   "cell_type": "code",
   "execution_count": 162,
   "metadata": {},
   "outputs": [
    {
     "data": {
      "text/plain": [
       "(0.7670415023362466, (0.7278385811900658, 0.0))"
      ]
     },
     "execution_count": 162,
     "metadata": {},
     "output_type": "execute_result"
    },
    {
     "data": {
      "image/png": "[encoded data removed]",
      "text/plain": [
       "<Figure size 288x216 with 1 Axes>"
      ]
     },
     "metadata": {
      "needs_background": "light"
     },
     "output_type": "display_data"
    }
   ],
   "source": [
    "#  FASTTEXT subwords\n",
    "scatter_embedding(E_fast, save_filename=\"figs/EH_funny_corr.jpg\")"
   ]
  },
  {
   "cell_type": "code",
   "execution_count": 24,
   "metadata": {},
   "outputs": [
    {
     "data": {
      "text/plain": [
       "(0.7672975967458391, (0.728087647637513, 0.0))"
      ]
     },
     "execution_count": 24,
     "metadata": {},
     "output_type": "execute_result"
    },
    {
     "data": {
      "image/png": "[encoded data removed]",
      "text/plain": [
       "<Figure size 288x216 with 1 Axes>"
      ]
     },
     "metadata": {
      "needs_background": "light"
     },
     "output_type": "display_data"
    }
   ],
   "source": [
    "#  FASTTEXT\n",
    "scatter_embedding(E_fast_whole)"
   ]
  },
  {
   "cell_type": "code",
   "execution_count": null,
   "metadata": {},
   "outputs": [],
   "source": [
    "# Using 100 repetitions\n",
    "\n",
    "# \\begin{tabular}{lll}\\toprule\n",
    "# Embedding name & Corr. & Corr. (using CV)\\\\\\midrule\n",
    "# GNEWS                & 0.721 & 0.675 \\pm 0.003\\\\\n",
    "# WebSubword           & 0.767 & 0.729 \\pm 0.002\\\\\n",
    "# Web                  & 0.767 & 0.730 \\pm 0.002\\\\\n",
    "# WikiGiga             & 0.678 & 0.619 \\pm 0.003\\\\\n",
    "# Twitter              & 0.686 & 0.650 \\pm 0.002\\\\\n",
    "# \\bottomrule\n",
    "# \\end{tabular}"
   ]
  },
  {
   "cell_type": "code",
   "execution_count": 123,
   "metadata": {},
   "outputs": [
    {
     "name": "stdout",
     "output_type": "stream",
     "text": [
      "CPU times: user 1h 45s, sys: 4h 24min 23s, total: 5h 25min 8s\n",
      "Wall time: 10min 12s\n"
     ]
    }
   ],
   "source": [
    "%%time\n",
    "NREPS = 100 # used to generate the figures in the paper -- takes about 10 minutes\n",
    "# NREPS = 10 # takes only 1 minute\n",
    "# Geneate embedding comparison table content\n",
    "embed_comp_corr_table = {}\n",
    "embeddings_to_try = [(E, \"GNEWS (word2vec)\"), (E_fast,'WebSubword (fastText)'), (E_fast_whole,'WebFast (fastText)'),\\\n",
    "                     (E_glove, \"WebGlove (gloVe)\")]\n",
    "for embed in embeddings_to_try:\n",
    "    results = scatter_embedding(embed[0], n_reps=NREPS, fig_gen=False)\n",
    "    embed_comp_corr_table[embed[1]] = [results[0], results[1][0], results[1][1]]"
   ]
  },
  {
   "cell_type": "code",
   "execution_count": 124,
   "metadata": {},
   "outputs": [
    {
     "name": "stdout",
     "output_type": "stream",
     "text": [
      "Using 100 repetitions\n",
      "\n",
      "\\begin{tabular}{lll}\\toprule\n",
      "Embedding name & Corr. & Corr. (using CV)\\\\\\midrule\n",
      "GNEWS (word2vec)       & 0.721 & 0.675 $\\pm$ 0.003\\\\\n",
      "WebSubword (fastText)  & 0.767 & 0.729 $\\pm$ 0.002\\\\\n",
      "Web (fastText)         & 0.767 & 0.730 $\\pm$ 0.002\\\\\n",
      "WebGlove (gloVe)       & 0.768 & 0.730 $\\pm$ 0.002\\\\\n",
      "\\bottomrule\n",
      "\\end{tabular}\n"
     ]
    }
   ],
   "source": [
    "print(f\"Using {NREPS} repetitions\")\n",
    "print()\n",
    "# Generate latex-style table, see Table 1 in paper\n",
    "print(r\"\\begin{tabular}{lll}\\toprule\")\n",
    "print(\" & \".join([\"Embedding name\", \"Corr.\", \"Corr. (using CV)\"])+r\"\\\\\\midrule\")\n",
    "for key,val in embed_comp_corr_table.items():\n",
    "    print(f\"{key:22} & {val[0]:5.3f} & {val[1]:5.3f} $\\pm$ {val[2]:5.3f}\\\\\\\\\")\n",
    "#     print(\"{}     & \".format(key), \" & \".join([str(round(v,3)) for v in val]) + r\"\\\\\")\n",
    "print(\"\\\\bottomrule\")\n",
    "print(r\"\\end{tabular}\")"
   ]
  },
  {
   "cell_type": "code",
   "execution_count": 29,
   "metadata": {},
   "outputs": [
    {
     "name": "stdout",
     "output_type": "stream",
     "text": [
      "\\begin{tabular}{lllr}\\toprule\n",
      "Embedding name & Correlation & Corr. w. hold-out & std.\\\\\\midrule\n",
      "w2v     &  0.721 & 0.675 & 0.003\\\\\n",
      "FastText subword     &  0.767 & 0.729 & 0.002\\\\\n",
      "FastText wholeword     &  0.767 & 0.73 & 0.002\\\\\n",
      "Glove     &  0.678 & 0.619 & 0.002\\\\\n",
      "Glove Twitter     &  0.686 & 0.65 & 0.002\\\\\n",
      "\\bottomrule\n",
      "\\end{tabular}\n"
     ]
    }
   ],
   "source": [
    "# # Generate latex-style table, see Table 1 in paper\n",
    "# print(r\"\\begin{tabular}{lll}\\toprule\")\n",
    "# print(\" & \".join([\"Embedding name\", \"Correlation\", \"Corr. w. hold-out\", \"std.\"])+r\"\\\\\\midrule\")\n",
    "# for key,val in embed_comp_corr_table.items():\n",
    "#     print(f\"{key:20} & {val[0]:5.3f} & {val[1]:5.3f} \\pm {\\val[2]:.1}\")\n",
    "# #     print(\"{}     & \".format(key), \" & \".join([str(round(v,3)) for v in val]) + r\"\\\\\")\n",
    "# print(\"\\\\bottomrule\")\n",
    "# print(r\"\\end{tabular}\")\n",
    "\n",
    "# \\begin{tabular}{lllr}\\toprule\n",
    "# Embedding name & Correlation & Corr. w. hold-out & std.\\\\\\midrule\n",
    "# w2v     &  0.721 & 0.675 & 0.003\\\\\n",
    "# FastText subword     &  0.767 & 0.729 & 0.002\\\\\n",
    "# FastText wholeword     &  0.767 & 0.73 & 0.002\\\\\n",
    "# Glove     &  0.678 & 0.619 & 0.002\\\\\n",
    "# Glove Twitter     &  0.686 & 0.65 & 0.002\\\\\n",
    "# \\bottomrule\n",
    "# \\end{tabular}"
   ]
  },
  {
   "cell_type": "code",
   "execution_count": 69,
   "metadata": {
    "scrolled": true
   },
   "outputs": [
    {
     "name": "stdout",
     "output_type": "stream",
     "text": [
      "[('badinage', 3.7316594), ('goofballs', 3.6911929), ('har_har', 3.6085882), ('peeps', 3.6019015), ('tee_hee', 3.5971272), ('zany_antics', 3.5947742), ('wank', 3.5768852), ('meisters', 3.5689101), ('dippy', 3.5637324), ('gyration', 3.5612454)]\n",
      "badinage, goofballs, har har, peeps, tee hee, zany antics, wank, meisters, dippy, gyration\n",
      "* means word is in EH\n"
     ]
    }
   ],
   "source": [
    "# Funniest predicted words\n",
    "_union = sorted((wordss[0] + list(EH_scores)))\n",
    "\n",
    "clr = LinearRegression()\n",
    "clr.fit([E[w] for w in EH_scores], [EH_scores[w] for w in EH_scores])\n",
    "predictions = {w: v for (w,v) in zip(_union,clr.predict([E[w] for w in _union]))}\n",
    "print([(w +\"*\" if w in EH_scores else w, predictions[w]) for w in sorted(_union, key=lambda x: predictions[x], reverse=True)[:10]])\n",
    "print(\", \".join([w+\"*\" if w in EH_scores else w.replace(\"_\", \" \") for w in sorted(_union, key=lambda x: predictions[x], reverse=True)[:10]]))\n",
    "print(\"* means word is in EH\")"
   ]
  },
  {
   "cell_type": "code",
   "execution_count": 68,
   "metadata": {},
   "outputs": [
    {
     "name": "stdout",
     "output_type": "stream",
     "text": [
      "Funniest words in EH paper:\n"
     ]
    },
    {
     "data": {
      "text/plain": [
       "'booty, tit, hooter, booby, nitwit, waddle, twit, tinkle, twerp, egghead, floozy, oomph'"
      ]
     },
     "execution_count": 68,
     "metadata": {},
     "output_type": "execute_result"
    }
   ],
   "source": [
    "print(\"Funniest words in EH paper:\")\n",
    "\", \".join(sorted(EH_scores, key = lambda w: -EH_scores[w])[:12])"
   ]
  },
  {
   "cell_type": "markdown",
   "metadata": {},
   "source": [
    "# clustering (group difference analysis)"
   ]
  },
  {
   "cell_type": "code",
   "execution_count": 86,
   "metadata": {
    "scrolled": true
   },
   "outputs": [],
   "source": [
    "# votes[0]: votes from 120k round\n",
    "# votes[1]: votes from 8k round\n",
    "# votes[2]: votes from 216, first part\n",
    "# votes[3]: votes from 216, second part\n",
    "# votes[4]: votes from 36\n",
    "# votes[5]: votes fro 6 word round (final)"
   ]
  },
  {
   "cell_type": "code",
   "execution_count": 19,
   "metadata": {},
   "outputs": [
    {
     "data": {
      "text/plain": [
       "True"
      ]
     },
     "execution_count": 19,
     "metadata": {},
     "output_type": "execute_result"
    }
   ],
   "source": [
    "# constructing full list of voters. wordss[2][0] is the first word, random choice of word, not a meaningful one\n",
    "round2_voters = sorted(votes[2][wordss[2][0]][\"yes_votes\"] + votes[2][wordss[2][0]][\"no_votes\"])\n",
    "# a list of voters, and a dictionary with each individual's votes for each word w \n",
    "round2_hashes = [{w: 1 if u in votes[2][w][\"yes_votes\"] else 0 for w in wordss[2]} for u in round2_voters]\n",
    "round2_voters == list(range(len(round2_voters)))"
   ]
  },
  {
   "cell_type": "markdown",
   "metadata": {},
   "source": [
    "# w2v clusters "
   ]
  },
  {
   "cell_type": "code",
   "execution_count": 23,
   "metadata": {},
   "outputs": [
    {
     "name": "stdout",
     "output_type": "stream",
     "text": [
      "K= 2, Silhouette score=0.078, inertia=171.219 sex_delta=6.5%\n",
      "K= 3, Silhouette score=0.049, inertia=164.439 sex_delta=17.3%\n",
      "K= 4, Silhouette score=0.042, inertia=160.137 sex_delta=26.9%\n",
      "K= 5, Silhouette score=0.038, inertia=157.618 sex_delta=34.9%\n",
      "K= 6, Silhouette score=0.032, inertia=155.454 sex_delta=27.0%\n",
      "K= 7, Silhouette score=0.031, inertia=153.654 sex_delta=34.0%\n",
      "K= 8, Silhouette score=0.025, inertia=152.238 sex_delta=34.0%\n",
      "K= 9, Silhouette score=0.026, inertia=151.114 sex_delta=36.2%\n",
      "K=10, Silhouette score=0.026, inertia=150.192 sex_delta=32.9%\n",
      "K=20, Silhouette score=0.016, inertia=144.112 sex_delta=41.1%\n"
     ]
    },
    {
     "data": {
      "text/plain": [
       "[<matplotlib.lines.Line2D at 0x7fd67fba7780>]"
      ]
     },
     "execution_count": 23,
     "metadata": {},
     "output_type": "execute_result"
    },
    {
     "data": {
      "image/png": "[encoded data removed]",
      "text/plain": [
       "<Figure size 432x288 with 1 Axes>"
      ]
     },
     "metadata": {
      "needs_background": "light"
     },
     "output_type": "display_data"
    }
   ],
   "source": [
    "# choose number of clusters for KMeans neighbours with 'elbow method'\n",
    "rand_state = 2\n",
    "from sklearn.metrics import silhouette_score\n",
    "\n",
    "Ks = [2,3,4,5,6,7,8,9,10,20]\n",
    "inertias = []\n",
    "for K in Ks:\n",
    "    kmeans = KMeans(n_clusters=K, random_state=rand_state)\n",
    "    means = [normalize(np.sum([E[w]*(hash2[w]) for w in hash2], axis=0)) for hash2 in round2_hashes]\n",
    "#     groups are male vs. non-male voters (female+other)\n",
    "    sexes = [sex(u)=='Male' for u in round2_voters]\n",
    "    ages = [age(u) for u in round2_voters]\n",
    "    kmeans.fit(means)\n",
    "    clusters = [[i for i, l in enumerate(kmeans.labels_) if l==k] for k in range(K)]\n",
    "    sexes = [mean([sexes[i] for i in cluster]) for cluster in clusters]\n",
    "    print(f\"K={K:2}, Silhouette score={silhouette_score(means, kmeans.labels_):.3f}, inertia={kmeans.inertia_:.3f} sex_delta={max(sexes)-min(sexes):.1%}\")\n",
    "    inertias.append(kmeans.inertia_)\n",
    "    \n",
    "plot(Ks, inertias, marker='o')"
   ]
  },
  {
   "cell_type": "code",
   "execution_count": 23,
   "metadata": {},
   "outputs": [],
   "source": [
    "# we chose K = 5 clusters based on elbow method"
   ]
  },
  {
   "cell_type": "code",
   "execution_count": 24,
   "metadata": {},
   "outputs": [
    {
     "name": "stdout",
     "output_type": "stream",
     "text": [
      "Cluster  0.70  35.0 (354): gobbledegook kerfuffle hullaballoo razzmatazz gazumped boondoggle galumphing skedaddle higgledy_piggledy guffawing bamboozle glock\n",
      "Cluster  0.58  35.0 (273): tootsies fufu squeegee woo_woo doohickey weenies muumuu thingies wigwams yadda_yadda weaner peewee caboose goop nookie doodad toon\n",
      "Cluster  0.54  41.0 (340): clusterfuck batshit crapola apeshit fugly wanker schmuck arseholes dickheads douchebaggery knuckleheads bitch_slap artsy_fartsy nu\n",
      "Cluster  0.52  35.0 (309): cockle_pickers whakapapa codswallop bacon_butties dabbawalas woolly_buggers higgledy_piggledy annus_horribilis trillion_dong pooja\n",
      "Cluster  0.35  33.0 (383): sexual_napalm semen_samples crack_whore bitch_slap dickheads blue_tits nut_flush twat butt_cheeks cocking rat_ass titties pooch_pu\n"
     ]
    }
   ],
   "source": [
    "# generate 5 clusters with KMeans algorithm\n",
    "K = 5\n",
    "kmeans = KMeans(n_clusters=K, random_state=rand_state)\n",
    "means = [normalize(np.sum([E[w]*(hash2[w]>0) for w in hash2], axis=0)) for hash2 in round2_hashes]\n",
    "sexes = [sex(u)=='Female' for u in round2_voters]\n",
    "ages = [age(u) for u in round2_voters]\n",
    "kmeans.fit(means)\n",
    "\n",
    "clusters = [[i for i, l in enumerate(kmeans.labels_) if l==k] for k in range(K)]\n",
    "clusters.sort(key=lambda cluster: mean([-sexes[i] for i in cluster]))\n",
    "\n",
    "for k, cluster in enumerate(clusters):\n",
    "    best_words= revsorted(wordss[2], key=lambda w: mean([round2_hashes[i][w] for i in cluster])-mean([hash2[w] for hash2 in round2_hashes]))\n",
    "    print(\"Cluster {:5.2f} {:5.1f} ({:3}): {}\".format(mean([sexes[i] for i in cluster]), median([ages[i] for i in cluster]), len(cluster), \" \".join(best_words)[:130]))"
   ]
  },
  {
   "cell_type": "code",
   "execution_count": 25,
   "metadata": {},
   "outputs": [
    {
     "name": "stdout",
     "output_type": "stream",
     "text": [
      "\\begin{tabular}{llllll}\\toprule\n",
      "            & Cluster 1          & Cluster 2          & Cluster 3          & Cluster 4          & Cluster 5         \\\\\\midrule\n",
      "word 1      &  gobbledegook       & tootsies           & clusterfuck        & whakapapa          & dickheads         \\\\\n",
      "word 2      &  kerfuffle          & fufu               & batshit            & codswallop         & twat              \\\\\n",
      "word 3      &  hullaballoo        & squeegee           & crapola            & dabbawalas         & cocking           \\\\\n",
      "word 4      &  razzmatazz         & doohickey          & apeshit            & pooja              & titties           \\\\\n",
      "word 5      &  gazumped           & weenies            & fugly              & spermatogenesis    & asshattery        \\\\\n",
      "word 6      &  boondoggle         & muumuu             & wanker             & diktats            & nutted            \\\\\n",
      "word 7      &  galumphing         & thingies           & schmuck            & annulus            & dong              \\\\\n",
      "word 8      &  skedaddle          & wigwams            & arseholes          & chokecherry        & wanker            \\\\\n",
      "word 9      &  guffawing          & weaner             & dickheads          & piggeries          & cockling          \\\\\n",
      "word 10      &  bamboozle          & peewee             & douchebaggery      & viagogo            & pussyfooting      \\\\\n",
      "\\midrule\n",
      "sound       & \\textbf{1.11} &                1.02 &                0.97 &                1.02 &                0.90\\\\\n",
      "scatological&                0.80 &                0.99 & \\textbf{1.15} &                0.89 &                1.14\\\\\n",
      "colloqial   &                0.95 &                1.00 & \\textbf{1.14} &                0.87 &                1.02\\\\\n",
      "insults     &                0.86 &                0.90 & \\textbf{1.23} &                0.84 &                1.12\\\\\n",
      "juxtapos.   &                0.89 &                0.86 &                0.99 &                1.10 & \\textbf{1.13}\\\\\n",
      "sexual      &                0.81 &                0.91 &                0.99 &                1.00 & \\textbf{1.25}\\\\\n",
      "\\midrule\n",
      "female \\%   &  70.3\\%            &  57.5\\%            &  53.8\\%            &  52.4\\%            &  35.2\\%           \\\\\n",
      "mean age    &  38.6                &  37.4                &  42.3                &  37.2                &  34.7               \\\\\n"
     ]
    }
   ],
   "source": [
    "females = [sex(u)=='Female' for u in round2_voters]\n",
    "great_cats = {\"sexc\":\"sexual\", \"scatc\":\"scatological\", \"inslt\": \"insults\", \"clq\": \"colloqial\", \"juxt\": \"juxtapos.\", \"snd\": \"sound\"}\n",
    "great_cat_list = [\"snd\", \"scatc\", \"clq\", \"inslt\", \"juxt\", \"sexc\"]\n",
    "assert(sorted(great_cats)==sorted(great_cat_list))\n",
    "words = [w for w in wordss[2] if \"_\" not in w] # wordss[2]\n",
    "\n",
    "# Given funny features and cluster, returns the mean score for that feature,cluster pair\n",
    "def score_cat_cluster(cat, cluster):\n",
    "    return mean([labels[cat][w]*round2_hashes[i][w] for i in cluster for w in wordss[2]])/mean([labels[cat][w]*hash2[w] for hash2 in round2_hashes for w in wordss[2]])\n",
    "# Generate sa well-fromatted line for table of all mean cluster scores for that feature category\n",
    "def cat_string(cat):\n",
    "    ss = [score_cat_cluster(cat, cluster) for cluster in clusters]\n",
    "    return \" & \".join([\"{:19.2f}\".format(s) if s!=max(ss) else r\"\\textbf{\" + \"{:.2f}\".format(s)+\"}\" for s in ss])\n",
    "\n",
    "# Generate latex-style table, see Table 3 in paper\n",
    "print(r\"\\begin{tabular}{l\" + \"l\"*K+r\"}\\toprule\")\n",
    "print(\" \"*12 + \"&\", \" & \".join([\"Cluster \" + str(i).ljust(10) for i in range(1,K+1)])+r\"\\\\\\midrule\")\n",
    "for i in range(10):\n",
    "    print(\"word {}      & \".format(i+1), \" & \".join([revsorted(words, key=lambda w: mean([round2_hashes[i][w] for i in cluster])-mean([hash2[w] for hash2 in round2_hashes]))[i].ljust(18).replace(\"_\", \" \") for cluster in clusters]) + r\"\\\\\")\n",
    "print(\"\\\\midrule\")\n",
    "for cat in great_cat_list:    \n",
    "    print(great_cats[cat].ljust(12)+ \"& \" + cat_string(cat) + r\"\\\\\")\n",
    "print(\"\\\\midrule\")\n",
    "print(\"female \\\\%\".ljust(12)+ \"& \" + (\" {:.1%}            & \"*K).format(*[mean([females[i] for i in cluster]) for cluster in clusters])[:-3].replace(\"%\", r\"\\%\") + r\"\\\\\")\n",
    "print(\"mean age\".ljust(12)+ \"& \" + (\" {:.1f}                & \"*K).format(*[mean([ages[i] for i in cluster]) for cluster in clusters])[:-3] + r\"\\\\\")"
   ]
  },
  {
   "cell_type": "code",
   "execution_count": 26,
   "metadata": {},
   "outputs": [
    {
     "name": "stdout",
     "output_type": "stream",
     "text": [
      "p values sexes\n",
      "mean 0.534058934984079\n",
      "1e-07 0.39194139194139194\n",
      "1e-06 0.4139194139194139\n",
      "1% 0.47619047619047616\n",
      "5% 0.49411764705882355\n",
      "95% confidence interval [ 0.4854368932038835 0.5824175824175825 ]\n",
      "95% 0.575091575091575\n",
      "99% 0.5922330097087378\n",
      "0.999999 0.6593406593406593\n",
      "0.9999999 0.6703296703296703\n"
     ]
    }
   ],
   "source": [
    "def p_value_sexes(n_samples=10**7):\n",
    "    random.seed(0)\n",
    "# compute cluster significance values\n",
    "    sexes2 = females[:]\n",
    "    res = []\n",
    "    for i in range(n_samples//len(clusters)):\n",
    "        random.shuffle(sexes2)\n",
    "        res += [mean([sexes2[i] for i in cluster]) for cluster in clusters]\n",
    "    res.sort()\n",
    "    print(\"mean\", mean(res))\n",
    "    print(1/n_samples, res[0])\n",
    "    print(10/n_samples, res[10])\n",
    "    print(\"1%\", res[n_samples//100])\n",
    "    print(\"5%\", res[n_samples//20])\n",
    "    print(\"95% confidence interval [\", res[n_samples//40], res[-n_samples//40], \"]\")\n",
    "    print(\"95%\", res[n_samples - n_samples//20])\n",
    "    print(\"99%\", res[n_samples - n_samples//100])\n",
    "    print(1-10/n_samples, res[-10])\n",
    "    print(1-1/n_samples, res[-1])\n",
    "\n",
    "print(\"p values sexes\")\n",
    "p_value_sexes()"
   ]
  },
  {
   "cell_type": "code",
   "execution_count": 27,
   "metadata": {},
   "outputs": [
    {
     "name": "stdout",
     "output_type": "stream",
     "text": [
      "p values ages\n",
      "mean 37.99699438492871\n",
      "1e-07 34.89010989010989\n",
      "1e-06 35.18122977346278\n",
      "0.1% 36.201465201465204\n",
      "1% 36.65567765567766\n",
      "5% 37.05084745762712\n",
      "95% confidence interval [ 36.86813186813187 39.13915857605178 ]\n",
      "95% 38.95145631067961\n",
      "99% 39.36158192090395\n",
      "0.999999 40.95238095238095\n",
      "0.9999999 41.73626373626374\n"
     ]
    }
   ],
   "source": [
    "def p_value_ages(n_samples=10**7):\n",
    "    random.seed(0)\n",
    "# compute cluster significance values\n",
    "    ages2= ages[:]\n",
    "    res = []\n",
    "    for i in range(n_samples//len(clusters)):\n",
    "        random.shuffle(ages2)\n",
    "        res += [mean([ages2[i] for i in cluster]) for cluster in clusters]\n",
    "    res.sort()\n",
    "    print(\"mean\", mean(res))\n",
    "    print(1/n_samples, res[0])\n",
    "    print(10/n_samples, res[10])\n",
    "    print(\"0.1%\", res[n_samples//1000])\n",
    "    print(\"1%\", res[n_samples//100])\n",
    "    print(\"5%\", res[n_samples//20])\n",
    "    print(\"95% confidence interval [\", res[n_samples//40], res[-n_samples//40], \"]\")\n",
    "    \n",
    "    print(\"95%\", res[n_samples - n_samples//20])\n",
    "    print(\"99%\", res[n_samples - n_samples//100])\n",
    "    print(1-10/n_samples, res[-10])\n",
    "    print(1-1/n_samples, res[-1])\n",
    "\n",
    "print(\"p values ages\")\n",
    "p_value_ages()"
   ]
  },
  {
   "cell_type": "markdown",
   "metadata": {},
   "source": [
    "# FastText clustering"
   ]
  },
  {
   "cell_type": "code",
   "execution_count": 277,
   "metadata": {},
   "outputs": [
    {
     "name": "stdout",
     "output_type": "stream",
     "text": [
      "K= 2, Silhouette score=0.117, inertia=101.483 sex_delta=13.6%\n",
      "K= 3, Silhouette score=0.069, inertia=97.513 sex_delta=16.4%\n",
      "K= 4, Silhouette score=0.064, inertia=94.341 sex_delta=19.5%\n",
      "K= 5, Silhouette score=0.047, inertia=92.228 sex_delta=24.1%\n",
      "K= 6, Silhouette score=0.048, inertia=90.530 sex_delta=26.8%\n",
      "K= 7, Silhouette score=0.047, inertia=89.414 sex_delta=27.9%\n",
      "K= 8, Silhouette score=0.041, inertia=88.476 sex_delta=29.0%\n",
      "K= 9, Silhouette score=0.037, inertia=87.738 sex_delta=31.6%\n",
      "K=10, Silhouette score=0.032, inertia=86.954 sex_delta=36.3%\n",
      "K=20, Silhouette score=0.023, inertia=82.655 sex_delta=41.0%\n"
     ]
    },
    {
     "data": {
      "text/plain": [
       "[<matplotlib.lines.Line2D at 0x7f58c06a9cc0>]"
      ]
     },
     "execution_count": 277,
     "metadata": {},
     "output_type": "execute_result"
    },
    {
     "data": {
      "image/png": "[encoded data removed]",
      "text/plain": [
       "<Figure size 432x288 with 1 Axes>"
      ]
     },
     "metadata": {
      "needs_background": "light"
     },
     "output_type": "display_data"
    }
   ],
   "source": [
    "# choose number of clusters for KMeans neighbours with 'elbow method'\n",
    "rand_state = 2\n",
    "from sklearn.metrics import silhouette_score\n",
    "\n",
    "Ks = [2,3,4,5,6,7,8,9,10,20]\n",
    "inertias = []\n",
    "for K in Ks:\n",
    "    kmeans = KMeans(n_clusters=K, random_state=rand_state)\n",
    "    means = [normalize(np.sum([E_fast[w]*(hash2[w]) for w in hash2], axis=0)) for hash2 in round2_hashes]\n",
    "#     groups are male vs. non-male voters (female+other)\n",
    "    sexes = [sex(u)=='Male' for u in round2_voters]\n",
    "    ages = [age(u) for u in round2_voters]\n",
    "    kmeans.fit(means)\n",
    "    clusters = [[i for i, l in enumerate(kmeans.labels_) if l==k] for k in range(K)]\n",
    "    sexes = [mean([sexes[i] for i in cluster]) for cluster in clusters]\n",
    "    print(f\"K={K:2}, Silhouette score={silhouette_score(means, kmeans.labels_):.3f}, inertia={kmeans.inertia_:.3f} sex_delta={max(sexes)-min(sexes):.1%}\")\n",
    "    inertias.append(kmeans.inertia_)\n",
    "    \n",
    "plot(Ks, inertias, marker='o')"
   ]
  },
  {
   "cell_type": "code",
   "execution_count": 278,
   "metadata": {},
   "outputs": [
    {
     "name": "stdout",
     "output_type": "stream",
     "text": [
      "Cluster  0.63  35.0 (336): gobbledegook skedaddle kerfuffle hullaballoo lollygag schmaltzy bamboozle galumphing boondoggle bupkis glockenspiel dunderheaded g\n",
      "Cluster  0.59  35.0 (437): whakapapa dabbawalas gazumped didgeridoo pickleball higgledy_piggledy portaloos tiddlywinks razzmatazz piggeries galumphing hippoc\n",
      "Cluster  0.51  39.0 (394): clusterfuck batshit fugly apeshit wanker asshattery crapola dickheads douchebaggery arseholes bitch_slap nutjobs mofo goober dingb\n",
      "Cluster  0.43  34.0 (492): cockle_pickers sexual_napalm blue_tits trillion_dong nut_flush pooch_punt nut_butters semen_samples cock_ups annus_horribilis puss\n"
     ]
    }
   ],
   "source": [
    "# generate 5 clusters with KMeans algorithm\n",
    "K = 4\n",
    "kmeans = KMeans(n_clusters=K, random_state=rand_state)\n",
    "means = [normalize(np.sum([E_fast[w]*(hash2[w]>0) for w in hash2], axis=0)) for hash2 in round2_hashes]\n",
    "sexes = [sex(u)=='Female' for u in round2_voters]\n",
    "ages = [age(u) for u in round2_voters]\n",
    "kmeans.fit(means)\n",
    "\n",
    "clusters = [[i for i, l in enumerate(kmeans.labels_) if l==k] for k in range(K)]\n",
    "clusters.sort(key=lambda cluster: mean([-sexes[i] for i in cluster]))\n",
    "\n",
    "for k, cluster in enumerate(clusters):\n",
    "    best_words= revsorted(wordss[2], key=lambda w: mean([round2_hashes[i][w] for i in cluster])-mean([hash2[w] for hash2 in round2_hashes]))\n",
    "    print(\"Cluster {:5.2f} {:5.1f} ({:3}): {}\".format(mean([sexes[i] for i in cluster]), median([ages[i] for i in cluster]), len(cluster), \" \".join(best_words)[:130]))"
   ]
  },
  {
   "cell_type": "code",
   "execution_count": 259,
   "metadata": {},
   "outputs": [
    {
     "name": "stdout",
     "output_type": "stream",
     "text": [
      "\\begin{tabular}{lllll}\\toprule\n",
      "            & Cluster 1          & Cluster 2          & Cluster 3          & Cluster 4         \\\\\\midrule\n",
      "word 1      &  gobbledegook       & whakapapa          & clusterfuck        & spermatogenesis   \\\\\n",
      "word 2      &  skedaddle          & dabbawalas         & batshit            & cocking           \\\\\n",
      "word 3      &  kerfuffle          & gazumped           & fugly              & cockling          \\\\\n",
      "word 4      &  hullaballoo        & didgeridoo         & apeshit            & cockfights        \\\\\n",
      "word 5      &  lollygag           & pickleball         & wanker             & titties           \\\\\n",
      "word 6      &  schmaltzy          & portaloos          & asshattery         & jerkbaits         \\\\\n",
      "word 7      &  bamboozle          & tiddlywinks        & crapola            & annulus           \\\\\n",
      "word 8      &  galumphing         & razzmatazz         & dickheads          & shuttlecock       \\\\\n",
      "word 9      &  boondoggle         & piggeries          & douchebaggery      & nutted            \\\\\n",
      "word 10      &  bupkis             & galumphing         & arseholes          & boobies           \\\\\n",
      "\\midrule\n",
      "sound       & \\textbf{1.09} &                1.05 &                0.96 &                0.93\\\\\n",
      "scatological&                0.79 &                0.90 & \\textbf{1.15} &                1.12\\\\\n",
      "colloqial   &                0.97 &                0.94 & \\textbf{1.11} &                0.99\\\\\n",
      "insults     &                0.88 &                0.85 & \\textbf{1.22} &                1.04\\\\\n",
      "juxtapos.   &                0.74 &                0.95 &                1.00 & \\textbf{1.22}\\\\\n",
      "sexual      &                0.79 &                0.91 &                1.02 & \\textbf{1.21}\\\\\n",
      "\\midrule\n",
      "female \\%   &  63.4\\%            &  58.8\\%            &  51.3\\%            &  43.5\\%           \\\\\n",
      "mean age    &  38.2                &  37.7                &  40.6                &  36.0               \\\\\n"
     ]
    }
   ],
   "source": [
    "# 5 clusters seemed better than 4. For 4 we see a bunch of features collapsed into cluster 4 etc.\n",
    "females = [sex(u)=='Female' for u in round2_voters]\n",
    "great_cats = {\"sexc\":\"sexual\", \"scatc\":\"scatological\", \"inslt\": \"insults\", \"clq\": \"colloqial\", \"juxt\": \"juxtapos.\", \"snd\": \"sound\"}\n",
    "great_cat_list = [\"snd\", \"scatc\", \"clq\", \"inslt\", \"juxt\", \"sexc\"]\n",
    "assert(sorted(great_cats)==sorted(great_cat_list))\n",
    "words = [w for w in wordss[2] if \"_\" not in w] # wordss[2]\n",
    "\n",
    "# Given funny features and cluster, returns the mean score for that feature,cluster pair\n",
    "def score_cat_cluster(cat, cluster):\n",
    "    return mean([labels[cat][w]*round2_hashes[i][w] for i in cluster for w in wordss[2]])/mean([labels[cat][w]*hash2[w] for hash2 in round2_hashes for w in wordss[2]])\n",
    "# Generate sa well-fromatted line for table of all mean cluster scores for that feature category\n",
    "def cat_string(cat):\n",
    "    ss = [score_cat_cluster(cat, cluster) for cluster in clusters]\n",
    "    return \" & \".join([\"{:19.2f}\".format(s) if s!=max(ss) else r\"\\textbf{\" + \"{:.2f}\".format(s)+\"}\" for s in ss])\n",
    "\n",
    "# Generate latex-style table, see Table 3 in paper\n",
    "print(r\"\\begin{tabular}{l\" + \"l\"*K+r\"}\\toprule\")\n",
    "print(\" \"*12 + \"&\", \" & \".join([\"Cluster \" + str(i).ljust(10) for i in range(1,K+1)])+r\"\\\\\\midrule\")\n",
    "for i in range(10):\n",
    "    print(\"word {}      & \".format(i+1), \" & \".join([revsorted(words, key=lambda w: mean([round2_hashes[i][w] for i in cluster])-mean([hash2[w] for hash2 in round2_hashes]))[i].ljust(18).replace(\"_\", \" \") for cluster in clusters]) + r\"\\\\\")\n",
    "print(\"\\\\midrule\")\n",
    "for cat in great_cat_list:    \n",
    "    print(great_cats[cat].ljust(12)+ \"& \" + cat_string(cat) + r\"\\\\\")\n",
    "print(\"\\\\midrule\")\n",
    "print(\"female \\\\%\".ljust(12)+ \"& \" + (\" {:.1%}            & \"*K).format(*[mean([females[i] for i in cluster]) for cluster in clusters])[:-3].replace(\"%\", r\"\\%\") + r\"\\\\\")\n",
    "print(\"mean age\".ljust(12)+ \"& \" + (\" {:.1f}                & \"*K).format(*[mean([ages[i] for i in cluster]) for cluster in clusters])[:-3] + r\"\\\\\")"
   ]
  },
  {
   "cell_type": "markdown",
   "metadata": {},
   "source": [
    "# know your audience"
   ]
  },
  {
   "cell_type": "code",
   "execution_count": 163,
   "metadata": {},
   "outputs": [
    {
     "data": {
      "text/plain": [
       "1004"
      ]
     },
     "execution_count": 163,
     "metadata": {},
     "output_type": "execute_result"
    }
   ],
   "source": [
    "# words each person found funniest\n",
    "winners = [w for u in round2_voters for w in wordss[2] if u in votes[4][w][\"yes_votes\"]]\n",
    "# create tuples of individuals who are 'comic opposites', i.e. found different words funny\n",
    "comic_opposites = [(i, j) for i, h1 in enumerate(round2_hashes) for j, h2 in enumerate(round2_hashes[:i]) if not any([h1[w] and h2[w] for w in wordss[2]])]\n",
    "len(comic_opposites)"
   ]
  },
  {
   "cell_type": "code",
   "execution_count": 164,
   "metadata": {},
   "outputs": [
    {
     "data": {
      "text/plain": [
       "0.7808764940239044"
      ]
     },
     "execution_count": 164,
     "metadata": {},
     "output_type": "execute_result"
    }
   ],
   "source": [
    "def easy_humor_match(hashes = round2_hashes, E=E):\n",
    "    errors = 0\n",
    "    summaries = [[winner] + [w for w in hash_ if hash_[w]==1 and w!=winner] for winner, hash_ in zip(winners, hashes)]\n",
    "    for (i,j) in comic_opposites:\n",
    "        sum1, sum2 = summaries[i], summaries[j]\n",
    "#         conditioning on diff in first person winner vector and second person winner vector, see formula in section 5\n",
    "        if (np.sum([E[w] for w in sum1[1:]], axis=0)-np.sum([E[w] for w in sum2[1:]], axis=0)).dot(E[sum1[0]]-E[sum2[0]])<=0:\n",
    "            errors += 1       \n",
    "    \n",
    "    return errors/len(comic_opposites)\n",
    "\n",
    "# success rate of easy matching\n",
    "1-easy_humor_match()"
   ]
  },
  {
   "cell_type": "code",
   "execution_count": 165,
   "metadata": {},
   "outputs": [
    {
     "data": {
      "text/plain": [
       "0.7739043824701195"
      ]
     },
     "execution_count": 165,
     "metadata": {},
     "output_type": "execute_result"
    }
   ],
   "source": [
    "1-easy_humor_match(E=E_fast)"
   ]
  },
  {
   "cell_type": "code",
   "execution_count": 167,
   "metadata": {},
   "outputs": [
    {
     "data": {
      "text/plain": [
       "(1659, 1659, 1659)"
      ]
     },
     "execution_count": 167,
     "metadata": {},
     "output_type": "execute_result"
    }
   ],
   "source": [
    "round3_hashes = [{w: 1 if u in votes[3][w][\"yes_votes\"] else 0 for w in wordss[2]} for u in round2_voters]\n",
    "len(round2_hashes), len(round3_hashes), len(winners)"
   ]
  },
  {
   "cell_type": "code",
   "execution_count": 171,
   "metadata": {},
   "outputs": [],
   "source": [
    "def hard_humor_match(print_num=0, E=E):\n",
    "    tot = 0\n",
    "    eligible = 0\n",
    "    errors = 0\n",
    "    summaries = [(winner, [w for w in hash3 if hash3[w]==1 and w!=winner], hash2) for winner, hash2, hash3 in zip(winners, round2_hashes, round3_hashes)]\n",
    "#     (test1, train1, h1) refer to individual 1, etc.\n",
    "#  test is the words we are trying to match (the winner), train includes the 5 words we used as training of the model for each individual, \n",
    "#  h is words from the previous round for eligibility condition in the loop\n",
    "    for (test1, train1, h1) in summaries:\n",
    "        assert len(train1)==5\n",
    "        for (test2, train2, h2) in summaries:\n",
    "            if h2 is h1:\n",
    "                break\n",
    "            tot +=1\n",
    "            if h2[test1]==0 and h1[test2]==0:\n",
    "                eligible += 1\n",
    "                if (np.sum([E[w] for w in train1], axis=0)-np.sum([E[w] for w in train2], axis=0)).dot(E[test1]-E[test2])<=0:\n",
    "                    errors += 1\n",
    "                    oops = True\n",
    "                else:\n",
    "                    oops = False\n",
    "                if eligible < print_num:\n",
    "                    print(\"oops\", oops)\n",
    "                    print(r\"\\item Positive words 1: \\textit{\" + \", \".join(sorted(sum1[1:])).replace(\"_\", \" \") + \"}\" )\n",
    "                    print(r\"\\item Positive words 2: \\textit{\" + \", \".join(sorted(sum2[1:])).replace(\"_\", \" \") + \"}\" )\n",
    "                    print(r\"\\item Challenge: \\{\\textit{\" + sum1[0] + \", \" + sum2[0] +\"}\\}\\\\\\\\\")        \n",
    "        \n",
    "    print(eligible, tot, \"eligible frac:\", eligible/tot, \"success rate:\", 1-errors/eligible)\n",
    "    return 1-errors/eligible"
   ]
  },
  {
   "cell_type": "code",
   "execution_count": 175,
   "metadata": {},
   "outputs": [
    {
     "name": "stdout",
     "output_type": "stream",
     "text": [
      "818790 1375311 eligible frac: 0.5953489792490572 success rate: 0.6497331428082903\n"
     ]
    },
    {
     "data": {
      "text/plain": [
       "0.6497331428082903"
      ]
     },
     "execution_count": 175,
     "metadata": {},
     "output_type": "execute_result"
    }
   ],
   "source": [
    "hard_humor_match()"
   ]
  },
  {
   "cell_type": "code",
   "execution_count": 172,
   "metadata": {},
   "outputs": [
    {
     "name": "stdout",
     "output_type": "stream",
     "text": [
      "818790 1375311 eligible frac: 0.5953489792490572 success rate: 0.6710975952319886\n"
     ]
    },
    {
     "data": {
      "text/plain": [
       "0.6710975952319886"
      ]
     },
     "execution_count": 172,
     "metadata": {},
     "output_type": "execute_result"
    }
   ],
   "source": [
    "hard_humor_match(E=E_fast)"
   ]
  },
  {
   "cell_type": "code",
   "execution_count": 173,
   "metadata": {},
   "outputs": [],
   "source": [
    "def humor_match(print_num=0, E=E):\n",
    "    tot = 0\n",
    "    eligible = 0\n",
    "    errors = 0\n",
    "    summaries = [(winner, [w for w in hash2 if hash2[w]==1 and w!=winner], hash2) for winner, hash2 in zip(winners, round2_hashes)]\n",
    "    for (test1, train1, h1) in summaries:\n",
    "        assert len(train1)==35\n",
    "        for (test2, train2, h2) in summaries:\n",
    "            if h2 is h1:\n",
    "                break\n",
    "            tot +=1\n",
    "            if h2[test1]==0 and h1[test2]==0:\n",
    "                eligible += 1\n",
    "                if (np.sum([E[w] for w in train1], axis=0)-np.sum([E[w] for w in train2], axis=0)).dot(E[test1]-E[test2])<=0:\n",
    "                    errors += 1\n",
    "                    oops = True\n",
    "                else:\n",
    "                    oops = False\n",
    "                if eligible < print_num:\n",
    "                    print(\"oops\", oops)\n",
    "                    print(r\"\\item Positive words 1: \\textit{\" + \", \".join(sorted(sum1[1:])).replace(\"_\", \" \") + \"}\" )\n",
    "                    print(r\"\\item Positive words 2: \\textit{\" + \", \".join(sorted(sum2[1:])).replace(\"_\", \" \") + \"}\" )\n",
    "                    print(r\"\\item Challenge: \\{\\textit{\" + sum1[0] + \", \" + sum2[0] +\"}\\}\\\\\\\\\")        \n",
    "        \n",
    "    print(eligible, tot, \"eligible frac:\", eligible/tot, \"success rate:\", 1-errors/eligible)\n",
    "    return 1-errors/eligible\n",
    "    \n"
   ]
  },
  {
   "cell_type": "code",
   "execution_count": 176,
   "metadata": {},
   "outputs": [
    {
     "name": "stdout",
     "output_type": "stream",
     "text": [
      "818790 1375311 eligible frac: 0.5953489792490572 success rate: 0.6824301713504073\n"
     ]
    },
    {
     "data": {
      "text/plain": [
       "0.6824301713504073"
      ]
     },
     "execution_count": 176,
     "metadata": {},
     "output_type": "execute_result"
    }
   ],
   "source": [
    "humor_match()"
   ]
  },
  {
   "cell_type": "code",
   "execution_count": 174,
   "metadata": {},
   "outputs": [
    {
     "name": "stdout",
     "output_type": "stream",
     "text": [
      "818790 1375311 eligible frac: 0.5953489792490572 success rate: 0.7019907424370107\n"
     ]
    },
    {
     "data": {
      "text/plain": [
       "0.7019907424370107"
      ]
     },
     "execution_count": 174,
     "metadata": {},
     "output_type": "execute_result"
    }
   ],
   "source": [
    "humor_match(E=E_fast)"
   ]
  },
  {
   "cell_type": "markdown",
   "metadata": {},
   "source": [
    "# feature correlation plot"
   ]
  },
  {
   "cell_type": "code",
   "execution_count": 88,
   "metadata": {},
   "outputs": [
    {
     "data": {
      "text/plain": [
       "1500"
      ]
     },
     "execution_count": 88,
     "metadata": {},
     "output_type": "execute_result"
    }
   ],
   "source": [
    "# create list of all words which were \"feature tagged\"\n",
    "lab_words = sorted(labels[\"scatc\"])\n",
    "len(lab_words)"
   ]
  },
  {
   "cell_type": "code",
   "execution_count": 89,
   "metadata": {},
   "outputs": [],
   "source": [
    "scores = [{w: len(v[w][\"yes_votes\"])/len(v[w][\"yes_votes\"] + v[w][\"no_votes\"]) for w in v} for v in votes] "
   ]
  },
  {
   "cell_type": "code",
   "execution_count": 90,
   "metadata": {},
   "outputs": [],
   "source": [
    "# avg. number of votes per person in the three stages of the 216 experiment\n",
    "ultimate_scores = {w: -1 for w in E}\n",
    "ultimate_scores.update(scores[2])\n",
    "for w in wordss[2]:\n",
    "    ultimate_scores[w] += len(votes[3][w][\"yes_votes\"] + votes[4][w][\"yes_votes\"])/len(round2_hashes)"
   ]
  },
  {
   "cell_type": "code",
   "execution_count": 91,
   "metadata": {},
   "outputs": [],
   "source": [
    "whole_words = [w for w in lab_words if not np.allclose(E_fast_whole[w],0)]"
   ]
  },
  {
   "cell_type": "code",
   "execution_count": 92,
   "metadata": {},
   "outputs": [
    {
     "name": "stdout",
     "output_type": "stream",
     "text": [
      "{'snd': 0.48706305870308825, 'scatc': 0.35884001932160653, 'clq': 0.6255036762071562, 'inslt': 0.592450118131301, 'juxt': 0.42498668678399215, 'sexc': 0.48868323672529607}\n",
      "{'snd': 0.3740342283500187, 'scatc': 0.2936264590004532, 'clq': 0.6541993219182134, 'inslt': 0.569809567161235, 'juxt': 0.23023901971978414, 'sexc': 0.39671329521485216}\n"
     ]
    }
   ],
   "source": [
    "print({cat: cross_val_corr(lab_words, labels[cat], n_reps=3, E=E_fast) for cat in labels})\n",
    "print({cat: cross_val_corr(lab_words, labels[cat], n_reps=3, E=E) for cat in labels})"
   ]
  },
  {
   "cell_type": "code",
   "execution_count": 138,
   "metadata": {},
   "outputs": [],
   "source": [
    "correlations = {cat: cross_val_corr(lab_words, labels[cat], n_reps=100, E=E) for cat in labels}"
   ]
  },
  {
   "cell_type": "code",
   "execution_count": 139,
   "metadata": {},
   "outputs": [],
   "source": [
    "correlations_Efast = {cat: cross_val_corr(lab_words, labels[cat], n_reps=100, E=E_fast) for cat in labels}"
   ]
  },
  {
   "cell_type": "code",
   "execution_count": 157,
   "metadata": {},
   "outputs": [],
   "source": [
    "plt.rc('text', usetex=False)\n",
    "plt.rc('font', family='sans')"
   ]
  },
  {
   "cell_type": "code",
   "execution_count": 160,
   "metadata": {},
   "outputs": [
    {
     "data": {
      "image/png": "[encoded data removed]",
      "text/plain": [
       "<Figure size 360x288 with 1 Axes>"
      ]
     },
     "metadata": {
      "needs_background": "light"
     },
     "output_type": "display_data"
    }
   ],
   "source": [
    "cat_display_names = {\"sexc\":\"sexual\", \"scatc\":\"scatological\", \"inslt\": \"insults\", \"clq\": \"colloquial\", \"juxt\": \"juxtaposition\", \"snd\": \"sound\"} \n",
    "rating_corrs = {cat: corr([labels[cat][w] for w in lab_words], [ultimate_scores[w] for w in lab_words]) for cat in cat_display_names}\n",
    "\n",
    "\n",
    "figure(figsize=(5,4))  \n",
    "scatter([correlations[cat] for cat in cat_display_names], [rating_corrs[cat] for cat in rating_corrs], label=\"GNEWS\")\n",
    "scatter([correlations_Efast[cat] for cat in cat_display_names], [rating_corrs[cat] for cat in rating_corrs], marker=\"^\", label=\"WebSubword\")\n",
    "\n",
    "for cat, display in cat_display_names.items():\n",
    "    y = rating_corrs[cat]\n",
    "    x = (correlations[cat] + correlations_Efast[cat])/2\n",
    "    if display in {\"colloquial\", \"insults\", \"scatological\"}:\n",
    "        y+=0.02\n",
    "    else:\n",
    "        y-=0.005\n",
    "    annotate(display, (x, y), horizontalalignment='center')\n",
    "\n",
    "ylabel(\"feat. corr. with mean humor rating\")\n",
    "xlabel(\"feature predictability\")\n",
    "legend()\n",
    "tight_layout()\n",
    "savefig(\"figs/feature_correlations.jpg\", dpi=300)"
   ]
  },
  {
   "cell_type": "markdown",
   "metadata": {},
   "source": [
    "# word length analysis"
   ]
  },
  {
   "cell_type": "code",
   "execution_count": 149,
   "metadata": {},
   "outputs": [
    {
     "data": {
      "text/plain": [
       "(8.0, 7.0)"
      ]
     },
     "execution_count": 149,
     "metadata": {},
     "output_type": "execute_result"
    }
   ],
   "source": [
    "median([len(w) for w in wordss[0] if \"_\" not in w]), median([len(w) for w in wordss[2] if \"_\" not in w])"
   ]
  },
  {
   "cell_type": "markdown",
   "metadata": {},
   "source": [
    "### Appendix: Generated E_fast for the 120k words+EH"
   ]
  },
  {
   "cell_type": "code",
   "execution_count": null,
   "metadata": {},
   "outputs": [],
   "source": [
    "\n",
    "\n",
    "from gensim.models import FastText as fText\n",
    "# FastText WITH SUBWORD, download from https://fasttext.cc/docs/en/english-vectors.html\n",
    "E_fast_gensim = fText.load_fasttext_format(\"data/crawl-300d-2M-subword\", encoding='iso-8859-1')\n",
    "def get_fast_word(w):\n",
    "    try:\n",
    "        return normalize(E_fast_gensim[w.replace(\"_\", \" \")])\n",
    "    except:\n",
    "        return 0.0*E_fast_gensim[\"cat\"]\n",
    "\n",
    "E_fast_normalized_dict = {w: get_fast_word(w) for w in wordss[0]+list(EH)}\n",
    "with open(\"data/crawl-300d-120k-subword_w_EH.pkl\", \"wb\") as f:\n",
    "    pkl.dump(E_fast_normalized_dict, f)\n",
    "    \n",
    "missing = []\n",
    "for w in wordss[0]+list(EH_scores):\n",
    "    try:\n",
    "        E_fast_gensim[w.replace(\"_\", \" \")]\n",
    "    except:\n",
    "        missing.append(w)\n",
    "print(len(missing), \"missing words from FASTTEXT+EH:\")\n",
    "print(\", \".join(missing))\n",
    "# #12 missing words from FASTTEXT:\n",
    "# #cu_ft, de_la, ejp, et_en, et_la, et_le, g_km, hjp, lb_ft, mm_x, ro_ro, yr_yr"
   ]
  },
  {
   "cell_type": "code",
   "execution_count": 116,
   "metadata": {},
   "outputs": [],
   "source": [
    "def print_missing(E, words_of_interest = [(\"EH\", list(EH_scores)), (\"120k\", wordss[0])]):\n",
    "    for name, words in words_of_interest:\n",
    "        missing = []\n",
    "        for w in words:\n",
    "            try:\n",
    "                E[w.replace(\"_\", \" \")]\n",
    "            except:\n",
    "                missing.append(w)\n",
    "        print(f\"{len(missing):,} missing words ({len(missing)/len(words):.1%}).\")\n",
    "        if missing:\n",
    "            print(\", \".join(missing[:10]) + (\"\" if len(missing)<10 else \", ...\"))\n",
    "\n",
    "def vec_file2dict(vec_filename, pkl_filename):\n",
    "    from gensim.models import KeyedVectors\n",
    "\n",
    "    e = KeyedVectors.load_word2vec_format(vec_filename)\n",
    "    def get_word(w):\n",
    "        try:\n",
    "            return normalize(e[w.replace(\"_\", \" \")])\n",
    "        except:\n",
    "            return 0.0*e[\"cat\"]\n",
    "\n",
    "    e_dict = {w: get_word(w) for name, words in words_of_interest for w in words}\n",
    "    with open(pkl_filename, \"wb\") as f:\n",
    "        pkl.dump(e_dict, f)\n",
    "\n",
    "    print(f\"Loaded '{vec_filename}' and wrote {len([v for v in e_dict.values() if not np.allclose(v, 0)]):,} nonzero vectors to '{pkl_filename}'\")\n",
    "        \n",
    "    print_missing(e_dict)"
   ]
  },
  {
   "cell_type": "code",
   "execution_count": null,
   "metadata": {},
   "outputs": [],
   "source": [
    "# FastText wiki news model, download from https://fasttext.cc/docs/en/english-vectors.html\n",
    "vec_file2dict(\"data/wiki-news-300d-1M-subword.vec\", \"wiki-news-300d-120kEH-subword.pkl\")\n",
    "\n",
    "# Loaded 'data/wiki-news-300d-1M-subword.vec' and wrote 73,547 nonzero vectors to 'wiki-news-300d-120kEH-subword.pkl'\n",
    "# 0 missing words (0.0%) from 'EH'.\n",
    "# 46,712 missing words (38.9%) from '120k'.\n",
    "# aaahs, aam_aadmi, aam_admi, ab_initio, abalone_diver, abated_somewhat, abbreviations_acronyms, abdominal_aneurysm, abdominal_aorta, abdominal_bloating, ..."
   ]
  },
  {
   "cell_type": "code",
   "execution_count": 303,
   "metadata": {},
   "outputs": [
    {
     "name": "stdout",
     "output_type": "stream",
     "text": [
      "Loaded 'data/crawl-300d-2M.vec' and wrote 74,448 nonzero vectors to 'data/crawl-300d-120k-w_EH.pkl'\n",
      "0 missing words (0.0%) from 'EH'.\n",
      "45,811 missing words (38.2%) from '120k'.\n",
      "aam_aadmi, aam_admi, ab_initio, abalone_diver, abated_somewhat, abbreviations_acronyms, abdominal_aneurysm, abdominal_aorta, abdominal_bloating, abdominal_cavity, ...\n"
     ]
    }
   ],
   "source": [
    "# FastText (WITHOUT SUBWORD!), download from https://fasttext.cc/docs/en/english-vectors.html\n",
    "vec_file2dict(\"data/crawl-300d-2M.vec\", \"data/crawl-300d-120k-w_EH.pkl\")"
   ]
  },
  {
   "cell_type": "code",
   "execution_count": 114,
   "metadata": {},
   "outputs": [],
   "source": [
    "def we_file2dict(we_filename, pkl_filename, words_of_interest = [(\"EH\", list(EH_scores)), (\"120k\", wordss[0])]):\n",
    "    E_original = we.WordEmbedding(we_filename)\n",
    "    def get_word(w):\n",
    "        try:\n",
    "            return E_original[w]\n",
    "        except:\n",
    "            return 0.0*E_original[\"cat\"]\n",
    "\n",
    "    E_normalized_dict = {w: get_word(w) for w in wordss[0]+list(EH_scores)}\n",
    "    with open(pkl_filename, \"wb\") as f:\n",
    "        pkl.dump(E_normalized_dict, f)\n",
    "    \n",
    "    print_missing(E_normalized_dict)"
   ]
  },
  {
   "cell_type": "code",
   "execution_count": 311,
   "metadata": {},
   "outputs": [
    {
     "name": "stdout",
     "output_type": "stream",
     "text": [
      "*** Reading data from ../../active_embedding/w2v_all.h5\n",
      "3000000 words of dimension 300 : </s>, in, for, that, ..., Bim_Skala_Bim, Mezze_Cafe, pulverizes_boulders, snowcapped_Caucasus\n",
      "0 missing words (0.0%).\n",
      "45,353 missing words (37.8%).\n",
      "aam_aadmi, aam_admi, ab_initio, abalone_diver, abated_somewhat, abbreviations_acronyms, abdominal_aneurysm, abdominal_aorta, abdominal_bloating, abdominal_cavity, ...\n"
     ]
    }
   ],
   "source": [
    "# word2vec, trained on google news, 3 million tokens, download from https://code.google.com/archive/p/word2vec/ \n",
    "# (search for GoogleNews-vectors-negative300.bin.gz.)\n",
    "we_file2dict(\"../../active_embedding/w2v_all.h5\", \"data/w2v_w_EH.pkl\")"
   ]
  },
  {
   "cell_type": "code",
   "execution_count": 312,
   "metadata": {},
   "outputs": [
    {
     "name": "stdout",
     "output_type": "stream",
     "text": [
      "*** Reading data from ../../active_embedding/glove.6B.300d.h5\n",
      "400000 words of dimension 300 : the, ,, ., of, ..., kronik, rolonda, zsombor, sandberger\n",
      "0 missing words (0.0%).\n",
      "45,353 missing words (37.8%).\n",
      "aam_aadmi, aam_admi, ab_initio, abalone_diver, abated_somewhat, abbreviations_acronyms, abdominal_aneurysm, abdominal_aorta, abdominal_bloating, abdominal_cavity, ...\n"
     ]
    }
   ],
   "source": [
    "# Glove Wikipedia 2014 + Gigaword 5, 6B tokens, download from https://nlp.stanford.edu/projects/glove/\n",
    "we_file2dict(\"../../active_embedding/glove.6B.300d.h5\", \"data/glove_w_EH.pkl\")"
   ]
  },
  {
   "cell_type": "code",
   "execution_count": 117,
   "metadata": {},
   "outputs": [
    {
     "name": "stdout",
     "output_type": "stream",
     "text": [
      "*** Reading data from ../../words/embeddings/glove.840B.300d.h5\n",
      "2196016 words of dimension 300 : ,, ., the, and, ..., yildirim, z/28, zipout, zulchzulu\n",
      "0 missing words (0.0%).\n",
      "45,353 missing words (37.8%).\n",
      "aam_aadmi, aam_admi, ab_initio, abalone_diver, abated_somewhat, abbreviations_acronyms, abdominal_aneurysm, abdominal_aorta, abdominal_bloating, abdominal_cavity, ...\n"
     ]
    }
   ],
   "source": [
    "# Glove common crawl, 840B tokens, download from https://nlp.stanford.edu/projects/glove/\n",
    "we_file2dict(\"../../words/embeddings/glove.840B.300d.h5\", \"data/glove_840_w_EH.pkl\")"
   ]
  },
  {
   "cell_type": "markdown",
   "metadata": {},
   "source": [
    "###  Addition to section feature predictability, checking predictability of whole words (no underscores) for comparison"
   ]
  },
  {
   "cell_type": "code",
   "execution_count": 321,
   "metadata": {},
   "outputs": [
    {
     "name": "stdout",
     "output_type": "stream",
     "text": [
      "{'snd': 0.468235278880151, 'scatc': 0.36508349788624556, 'clq': 0.6800853249251295, 'inslt': 0.6418714271504866, 'juxt': 0.32104158588568743, 'sexc': 0.4873402420133541}\n",
      "{'snd': 0.49574126629361426, 'scatc': 0.36367857128885767, 'clq': 0.6661158922317334, 'inslt': 0.6166565097315345, 'juxt': 0.29614394047095777, 'sexc': 0.5368844730014255}\n",
      "{'snd': 0.34131395617167654, 'scatc': 0.25900459922724695, 'clq': 0.6178840684335821, 'inslt': 0.5411348485843209, 'juxt': 0.14215428981882824, 'sexc': 0.3644700026481817}\n"
     ]
    }
   ],
   "source": [
    "print({cat: cross_val_corr(whole_words, labels[cat], n_reps=3, E=E_fast_whole) for cat in labels})\n",
    "print({cat: cross_val_corr(whole_words, labels[cat], n_reps=3, E=E_fast) for cat in labels})\n",
    "print({cat: cross_val_corr(whole_words, labels[cat], n_reps=3, E=E) for cat in labels})"
   ]
  }
 ],
 "metadata": {
  "kernelspec": {
   "display_name": "Python 3",
   "language": "python",
   "name": "python3"
  },
  "language_info": {
   "codemirror_mode": {
    "name": "ipython",
    "version": 3
   },
   "file_extension": ".py",
   "mimetype": "text/x-python",
   "name": "python",
   "nbconvert_exporter": "python",
   "pygments_lexer": "ipython3",
   "version": "3.6.6+"
  }
 },
 "nbformat": 4,
 "nbformat_minor": 2
}
